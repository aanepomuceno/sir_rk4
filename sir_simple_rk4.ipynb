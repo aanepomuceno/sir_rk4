{
 "cells": [
  {
   "cell_type": "code",
   "execution_count": 1,
   "metadata": {},
   "outputs": [],
   "source": [
    "#Este codigo resolve o conjunto de EDOs do modelo SIR pelo metodo\n",
    "#de Runge-Kutta de 4 ordem.\n",
    "#Andre Nepomuceno (junho/2020)"
   ]
  },
  {
   "cell_type": "code",
   "execution_count": 2,
   "metadata": {},
   "outputs": [],
   "source": [
    "#Modelo SIR\n",
    "#dS/dt = -beta*S*I = f_R(S,I,t)\n",
    "#dI/dt =  beta*S*I - gama*I = f_I(S,I,t)\n",
    "#dR/dt = gama*I = f_R(S,I,t)"
   ]
  },
  {
   "cell_type": "code",
   "execution_count": 4,
   "metadata": {},
   "outputs": [],
   "source": [
    "#ATENCAO: voce precisara instalar a biblioteca dvipng para matplotlib reconhecer as fontes latex\n",
    "# sudo apt-get install dvipng\n",
    "%matplotlib inline\n",
    "import numpy as np\n",
    "import matplotlib.pyplot as plt\n",
    "from matplotlib.ticker import MaxNLocator\n",
    "from matplotlib.lines import Line2D "
   ]
  },
  {
   "cell_type": "code",
   "execution_count": 5,
   "metadata": {},
   "outputs": [],
   "source": [
    "#Vamos definir o intervalo de tempo \n",
    "N = 100000  #populacao\n",
    "t_init = 0\n",
    "t_final = 120 \n",
    "nsteps = 1200 \n",
    "h = (t_final-t_init)/nsteps\n",
    "func = np.zeros(3) #array para guardar os valores de f_S,f_I e f_R\n",
    "norm = 1e4         #normalizacao para o plot\n"
   ]
  },
  {
   "cell_type": "code",
   "execution_count": 6,
   "metadata": {},
   "outputs": [],
   "source": [
    "#Aqui definimos uma funcao para o calculo de f_S,f_I e f_R. \n",
    "#A funcao retorna o array 'func' com tres elementos\n",
    "def F(S,I,beta,gama):\n",
    "    func[0] = -beta*S*I            #f_S\n",
    "    func[1] = beta*S*I - gama*I    #f_I\n",
    "    func[2] = gama*I               #f_R\n",
    "    return func"
   ]
  },
  {
   "cell_type": "code",
   "execution_count": 7,
   "metadata": {},
   "outputs": [],
   "source": [
    "#Aqui implementamos o metodo de Runge-Kutta \n",
    "\n",
    "def rk4_sir(beta,gama,S0,I0,R0):\n",
    "    #Valores iniciais\n",
    "    S = S0\n",
    "    I = I0\n",
    "    R = R0\n",
    "    r0 = beta/gama*S0\n",
    "    #Vamos definir tres listas vazias, Spoints,Ipoints,Rpoints, para guardar os valores\n",
    "    #de S(t),I(t) e R(t) em cada iteracao. Ao final, essas lista serão transformadas em Numpy arrays.\n",
    "    Spoints = []\n",
    "    Ipoints = []\n",
    "    Rpoints = []\n",
    "    for t in np.arange(t_init,t_final+h,h): #nsteps+1 pontos, de zero a t_final\n",
    "        Spoints.append(S)\n",
    "        Ipoints.append(I)\n",
    "        Rpoints.append(R)\n",
    "        s1 = h*F(S,I,beta,gama)[0]   #retorna h*f_S\n",
    "        i1 = h*F(S,I,beta,gama)[1]   #retorna h*f_I\n",
    "        r1 = h*F(S,I,beta,gama)[2]   #retorna h*f_R\n",
    "        s2 = h*F(S+0.5*s1,I+0.5*i1,beta,gama)[0]\n",
    "        i2 = h*F(S+0.5*s1,I+0.5*i1,beta,gama)[1]\n",
    "        r2 = h*F(S+0.5*s1,I+0.5*i1,beta,gama)[2]\n",
    "        s3 = h*F(S+0.5*s2,I+0.5*i2,beta,gama)[0]\n",
    "        i3 = h*F(S+0.5*s2,I+0.5*i2,beta,gama)[1]\n",
    "        r3 = h*F(S+0.5*s2,I+0.5*i2,beta,gama)[2]\n",
    "        s4 = h*F(S+s3,I+i3,beta,gama)[0]\n",
    "        i4 = h*F(S+s3,I+i3,beta,gama)[1]\n",
    "        r4 = h*F(S+s3,I+i3,beta,gama)[2]\n",
    "        S+= (1/6.)*(s1+2*s2+2*s3+s4)      #S_(n+1) = S_n + (1/6)*(s1+2*s2+2*s3+s4)\n",
    "        I+= (1/6.)*(i1+2*i2+2*i3+i4)\n",
    "        R+= (1/6.)*(r1+2*r2+2*r3+r4)\n",
    "    #Agora vamos transformar as listas em Numpy arrays para plotar a solucao\n",
    "    Spoints = np.array(Spoints)\n",
    "    Ipoints = np.array(Ipoints)\n",
    "    Rpoints = np.array(Rpoints)\n",
    "    return Spoints, Ipoints, Rpoints,r0"
   ]
  },
  {
   "cell_type": "code",
   "execution_count": 8,
   "metadata": {},
   "outputs": [
    {
     "name": "stdout",
     "output_type": "stream",
     "text": [
      "$5.0$\n",
      "I_final1 =  0.00012974875646182802\n",
      "I_final2 =  0.3203244272853231\n",
      "I_final3 =  15.696312851270008\n"
     ]
    },
    {
     "data": {
      "text/plain": [
       "True"
      ]
     },
     "execution_count": 8,
     "metadata": {},
     "output_type": "execute_result"
    }
   ],
   "source": [
    "#Chama a funcao rk4_sir para resolver as EDOs\n",
    "#simulacao para uma populacao de 100k habitantes\n",
    "S_func1,I_func1,R_func1,r0_1 = rk4_sir(1.0e-5,0.2,N-2,2,0)\n",
    "S_func2,I_func2,R_func2,r0_2 = rk4_sir(5.0e-6,0.2,N-2,2,0)\n",
    "S_func3,I_func3,R_func3,r0_3 = rk4_sir(4e-6, 0.2,N-2,2,0)\n",
    "time = np.linspace(t_init,t_final,nsteps+1)\n",
    "r0_str1 = r'${:.1f}$'.format(r0_1)\n",
    "r0_str2 = r'${:.1f}$'.format(r0_2)\n",
    "r0_str3 = r'${:.1f}$'.format(r0_3)\n",
    "print(r0_str1)\n",
    "#Verifique the I_final ~ 0 (para o intervalo de tempo considerado)\n",
    "print(\"I_final1 = \",I_func1[nsteps])\n",
    "print(\"I_final2 = \",I_func2[nsteps])\n",
    "print(\"I_final3 = \",I_func3[nsteps])\n",
    "time.size == S_func1.size  #deve retornar true"
   ]
  },
  {
   "cell_type": "code",
   "execution_count": 9,
   "metadata": {},
   "outputs": [
    {
     "data": {
      "text/plain": [
       "<matplotlib.legend.Legend at 0x7f3a51a66110>"
      ]
     },
     "execution_count": 9,
     "metadata": {},
     "output_type": "execute_result"
    },
    {
     "data": {
      "image/png": "[encoded data removed]",
      "text/plain": [
       "<Figure size 309.6x468 with 3 Axes>"
      ]
     },
     "metadata": {
      "needs_background": "light"
     },
     "output_type": "display_data"
    }
   ],
   "source": [
    "#A maior parte do codigo desta celula visa deixar o grafico apresentavel\n",
    "\n",
    "plt.rc('text', usetex=True)  #latex style\n",
    "fig = plt.figure(figsize=(4.3, 6.5))\n",
    "ax1 = fig.add_axes([0.15, 0.68, 0.8, 0.3],xticklabels=[]) \n",
    "ax2 = fig.add_axes([0.15, 0.37, 0.8, 0.3],xticklabels=[])\n",
    "ax3 = fig.add_axes([0.15, 0.06, 0.8, 0.3])\n",
    "\n",
    "ax1.tick_params(direction='in', length=4, width=1, grid_alpha=0.5,labelsize=11)\n",
    "ax2.tick_params(direction='in', length=4, width=1, grid_alpha=0.5,labelsize=11)\n",
    "ax3.tick_params(direction='in', length=4, width=1, grid_alpha=0.5,labelsize=11)\n",
    "ax1.yaxis.set_ticks_position('both')\n",
    "ax2.yaxis.set_ticks_position('both')\n",
    "ax3.yaxis.set_ticks_position('both')\n",
    "ax1.xaxis.set_ticks_position('bottom')\n",
    "ax2.xaxis.set_ticks_position('bottom')\n",
    "ax3.xaxis.set_ticks_position('bottom')\n",
    "ax3.set_xlabel(\"tempo (dias)\",fontsize=12)\n",
    "ax3.set_ylabel(r\"Num de Casos $(\\times 10^{4})$\",fontsize=12)\n",
    "ax1.plot(time,S_func1/norm,'b',label='S')\n",
    "ax1.plot(time,I_func1/norm,'r',label='I')\n",
    "ax1.plot(time,R_func1/norm,'g',label='R')\n",
    "ax1.yaxis.set_major_locator(MaxNLocator(integer=True))\n",
    "#ax1.legend(loc='upper right',bbox_to_anchor=(0.9, 0.9),frameon=False)\n",
    "ax1.text(0.71,0.25,r'$R_{0}$ = '+r0_str1, transform=ax1.transAxes,fontsize=11)\n",
    "ax2.plot(time,S_func2/norm,'b')\n",
    "ax2.plot(time,I_func2/norm,'r')\n",
    "ax2.plot(time,R_func2/norm,'g')\n",
    "ax2.yaxis.set_major_locator(MaxNLocator(integer=True))\n",
    "ax2.text(0.71,0.3,r'$R_{0}$ = '+r0_str2, transform=ax2.transAxes,fontsize=11)\n",
    "ax3.plot(time,S_func3/norm,'b')\n",
    "ax3.plot(time,I_func3/norm,'r')\n",
    "ax3.plot(time,R_func3/norm,'g')\n",
    "ax3.yaxis.set_major_locator(MaxNLocator(integer=True))\n",
    "ax3.text(0.71,0.85,r'$R_{0}$ = '+r0_str3, transform=ax3.transAxes,fontsize=11)\n",
    "#-------------------------------------------------------------\n",
    "#Esta parte do codigo serve para fazer o marcador da legenda como quadrados, no lugar do padrao reta horizontal\n",
    "line1 = Line2D(range(1), range(1), color=\"white\", marker='s',markersize=8,markerfacecolor=\"b\")\n",
    "line2 = Line2D(range(1), range(1), color=\"white\", marker='s',markersize=8,markerfacecolor=\"r\")\n",
    "line3 = Line2D(range(1), range(1), color=\"white\", marker='s',markersize=8,markerfacecolor=\"g\")\n",
    "ax1.legend((line1,line2,line3),('S','I','R'),numpoints=1,loc='upper right',bbox_to_anchor=(0.9, 0.8),frameon=False)"
   ]
  },
  {
   "cell_type": "code",
   "execution_count": 10,
   "metadata": {},
   "outputs": [
    {
     "name": "stdout",
     "output_type": "stream",
     "text": [
      "Calculo consistente :)\n"
     ]
    }
   ],
   "source": [
    "#teste de consistencia\n",
    "#Como o numero N é fixo, devemos ter em qualquer instante N = S(t) + I(t) + R(t)\n",
    "N = S_func1[0] + I_func1[0] + R_func1[0]\n",
    "epsilon = 1e-9\n",
    "for j in range(nsteps+1):\n",
    "     diff = N - (S_func1[j] + I_func1[j] + R_func1[j])\n",
    "     if (diff > epsilon):\n",
    "        print(\"Warning: Valor de epsilon = \",diff)\n",
    "        break\n",
    "     if (j==nsteps):\n",
    "        print(\"Calculo consistente :)\")"
   ]
  },
  {
   "cell_type": "code",
   "execution_count": 11,
   "metadata": {},
   "outputs": [
    {
     "data": {
      "text/plain": [
       "[<matplotlib.lines.Line2D at 0x7f3a51337bd0>]"
      ]
     },
     "execution_count": 11,
     "metadata": {},
     "output_type": "execute_result"
    },
    {
     "data": {
      "image/png": "[encoded data removed]",
      "text/plain": [
       "<Figure size 324x288 with 1 Axes>"
      ]
     },
     "metadata": {
      "needs_background": "light"
     },
     "output_type": "display_data"
    }
   ],
   "source": [
    "#Vamos verificar o numero de individuos suscetiveis no fim da epidemia S(inf), em funcao de \n",
    "#r_0\n",
    "S_final = []\n",
    "r0_points = []\n",
    "for b in np.arange(0.2,1.02,0.02):\n",
    "    b = b*1e-5\n",
    "    S_func,_,_,r0 = rk4_sir(b,0.2,99998,2,0)\n",
    "    S_final.append(S_func[nsteps]/N)\n",
    "    r0_points.append(r0)\n",
    "#    print(r0,\" \",S_func[nsteps]/N)\n",
    "fig = plt.figure(\"fig2\",figsize=(4.5,4))\n",
    "ax = plt.axes()\n",
    "ax.tick_params(direction='in', length=4, width=1, grid_alpha=0.5,labelsize=13)\n",
    "ax.xaxis.set_ticks_position('both')\n",
    "ax.yaxis.set_ticks_position('both')\n",
    "ax.set_xlabel(r\"$R_{0}$\",fontsize=13)\n",
    "ax.set_ylabel(r\"$S(\\infty)/N$\",fontsize=13)\n",
    "ax.plot(r0_points,S_final,'b')"
   ]
  },
  {
   "cell_type": "code",
   "execution_count": null,
   "metadata": {},
   "outputs": [],
   "source": []
  },
  {
   "cell_type": "code",
   "execution_count": null,
   "metadata": {},
   "outputs": [],
   "source": []
  }
 ],
 "metadata": {
  "kernelspec": {
   "display_name": "Python 3",
   "language": "python",
   "name": "python3"
  },
  "language_info": {
   "codemirror_mode": {
    "name": "ipython",
    "version": 3
   },
   "file_extension": ".py",
   "mimetype": "text/x-python",
   "name": "python",
   "nbconvert_exporter": "python",
   "pygments_lexer": "ipython3",
   "version": "3.7.6"
  }
 },
 "nbformat": 4,
 "nbformat_minor": 4
}
